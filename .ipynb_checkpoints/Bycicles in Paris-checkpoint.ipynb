{
 "cells": [
  {
   "cell_type": "markdown",
   "metadata": {
    "toc": true
   },
   "source": [
    "<h1>Table of Contents<span class=\"tocSkip\"></span></h1>\n",
    "<div class=\"toc\"><ul class=\"toc-item\"><li><span><a href=\"#To-Do\" data-toc-modified-id=\"To-Do-1\"><span class=\"toc-item-num\">1&nbsp;&nbsp;</span>To Do</a></span><ul class=\"toc-item\"><li><span><a href=\"#Objectives\" data-toc-modified-id=\"Objectives-1.1\"><span class=\"toc-item-num\">1.1&nbsp;&nbsp;</span>Objectives</a></span></li><li><span><a href=\"#Questions-to-answer\" data-toc-modified-id=\"Questions-to-answer-1.2\"><span class=\"toc-item-num\">1.2&nbsp;&nbsp;</span>Questions to answer</a></span></li><li><span><a href=\"#Visualizations-to-use\" data-toc-modified-id=\"Visualizations-to-use-1.3\"><span class=\"toc-item-num\">1.3&nbsp;&nbsp;</span>Visualizations to use</a></span></li><li><span><a href=\"#Possible-DataFrames-to-build\" data-toc-modified-id=\"Possible-DataFrames-to-build-1.4\"><span class=\"toc-item-num\">1.4&nbsp;&nbsp;</span>Possible DataFrames to build</a></span></li></ul></li><li><span><a href=\"#Data-that-we-might-need-(to-scrape)\" data-toc-modified-id=\"Data-that-we-might-need-(to-scrape)-2\"><span class=\"toc-item-num\">2&nbsp;&nbsp;</span>Data that we might need (to scrape)</a></span></li><li><span><a href=\"#Importing-the-datasets\" data-toc-modified-id=\"Importing-the-datasets-3\"><span class=\"toc-item-num\">3&nbsp;&nbsp;</span>Importing the datasets</a></span></li><li><span><a href=\"#Data-Cleaning\" data-toc-modified-id=\"Data-Cleaning-4\"><span class=\"toc-item-num\">4&nbsp;&nbsp;</span>Data Cleaning</a></span><ul class=\"toc-item\"><li><span><a href=\"#Missing-Values\" data-toc-modified-id=\"Missing-Values-4.1\"><span class=\"toc-item-num\">4.1&nbsp;&nbsp;</span>Missing Values</a></span></li><li><span><a href=\"#Columns-that-we-don't-need-from-accidents\" data-toc-modified-id=\"Columns-that-we-don't-need-from-accidents-4.2\"><span class=\"toc-item-num\">4.2&nbsp;&nbsp;</span>Columns that we don't need from accidents</a></span></li></ul></li><li><span><a href=\"#Get-postal-code-of-every-'compteur'\" data-toc-modified-id=\"Get-postal-code-of-every-'compteur'-5\"><span class=\"toc-item-num\">5&nbsp;&nbsp;</span>Get postal code of every 'compteur'</a></span></li></ul></div>"
   ]
  },
  {
   "cell_type": "markdown",
   "metadata": {},
   "source": [
    "# To Do"
   ]
  },
  {
   "cell_type": "markdown",
   "metadata": {},
   "source": [
    "## Objectives\n",
    "Analyse the number of cyclists in Paris\n",
    "\n",
    "* Quantify the rise of cyclists in Paris\n",
    "    * Get data from traffic, accidents\n",
    "    * Bike lane construction"
   ]
  },
  {
   "cell_type": "markdown",
   "metadata": {},
   "source": [
    "## Questions to answer\n",
    "* Correlate the accidents with time of day, condition of the road, gender\n",
    "* Is the increase in car traffic leading to more bike accidents?\n",
    "* Is the increase bikes lanes helping in the drecrease of bike accidents?\n",
    "* Is the increase of bike traffic leading to more bike lanes? And in which areas?"
   ]
  },
  {
   "cell_type": "markdown",
   "metadata": {},
   "source": [
    "## Visualizations to use\n",
    "\n",
    "* Histograms to measure the frequency of traffic\n",
    "* Correlation matrix to measure the correlation between traffic and number of bike lanes"
   ]
  },
  {
   "cell_type": "markdown",
   "metadata": {},
   "source": [
    "## Possible DataFrames to build\n",
    "* Traffic agreggated by hour\n",
    "* Traffic agreggated by day of the week\n",
    "* Traffic agreggated by month\n",
    "* Average number of cyclists per hour, day of the week, month?\n",
    "* Traffic in each year (columns) per month (rows)"
   ]
  },
  {
   "cell_type": "markdown",
   "metadata": {},
   "source": [
    "# Data that we might need (to scrape)\n",
    "* Public investment (bike lane construction, public incentives to buy bikes)\n",
    "* Car Traffic in Paris\n",
    "* Number of bycicles sold in Paris (we might have info about sales of eletric bikes in Paris)\n",
    "* Average Salary in Paris\n",
    "* Average bike prices"
   ]
  },
  {
   "cell_type": "markdown",
   "metadata": {},
   "source": [
    "# Importing the datasets"
   ]
  },
  {
   "cell_type": "code",
   "execution_count": 1,
   "metadata": {},
   "outputs": [],
   "source": [
    "import pandas as pd\n",
    "from urllib.request import urlopen\n",
    "import zipfile, io"
   ]
  },
  {
   "cell_type": "code",
   "execution_count": 2,
   "metadata": {},
   "outputs": [],
   "source": [
    "# Importing the accidents dataset - Imports with no issues\n",
    "accidents = pd.read_csv('https://www.data.gouv.fr/en/datasets/r/3d5f2317-5afd-4a9f-a9c5-bd4fe0113f39', low_memory=False)"
   ]
  },
  {
   "cell_type": "code",
   "execution_count": 3,
   "metadata": {},
   "outputs": [],
   "source": [
    "# Importing traffic file of 2018\n",
    "url = 'https://www.data.gouv.fr/en/datasets/r/58d6b982-4c70-4648-afe4-b80eab61d28d'\n",
    "archive = zipfile.ZipFile(io.BytesIO(urlopen(url).read())) # Takes some time\n",
    "csv_path = '2018_comptage-velo-donnees-compteurs.csv' # The desired csv file in the archive\n",
    "traffic_2018 = pd.read_csv(io.BytesIO(archive.read(csv_path)), sep = ';')"
   ]
  },
  {
   "cell_type": "code",
   "execution_count": 4,
   "metadata": {},
   "outputs": [],
   "source": [
    "# Importing traffic file of 2019\n",
    "url = 'https://www.data.gouv.fr/en/datasets/r/9c23d147-4032-429c-9c18-86dabd53e63f'\n",
    "archive = zipfile.ZipFile(io.BytesIO(urlopen(url).read())) # Takes some time\n",
    "csv_path = '2019_comptage-velo-donnees-compteurs-2.csv' # The desired csv file in the archive\n",
    "traffic_2019 = pd.read_csv(io.BytesIO(archive.read(csv_path)), sep = ';')"
   ]
  },
  {
   "cell_type": "code",
   "execution_count": 5,
   "metadata": {},
   "outputs": [],
   "source": [
    "# Importing the traffic dataset last 12M\n",
    "last_traffic = pd.read_csv('https://media.githubusercontent.com/media/tmcdonald92/Projects/master/comptage-velo-donnees-compteurs.csv', sep=';')"
   ]
  },
  {
   "cell_type": "code",
   "execution_count": 6,
   "metadata": {},
   "outputs": [],
   "source": [
    "# Filtering the dataset to only have data from 2020\n",
    "last_traffic=last_traffic.loc[last_traffic['Date et heure de comptage'].str[:4]=='2020']"
   ]
  },
  {
   "cell_type": "code",
   "execution_count": 7,
   "metadata": {},
   "outputs": [],
   "source": [
    "# Importing the bike lanes dataset\n",
    "bike_lanes = pd.read_csv('https://www.data.gouv.fr/en/datasets/r/1211e838-4b77-4ee4-9567-03d78d55f0bf', sep=';')"
   ]
  },
  {
   "cell_type": "markdown",
   "metadata": {},
   "source": [
    "# Data Cleaning"
   ]
  },
  {
   "cell_type": "markdown",
   "metadata": {},
   "source": [
    "## Traffic"
   ]
  },
  {
   "cell_type": "code",
   "execution_count": 8,
   "metadata": {},
   "outputs": [],
   "source": [
    "# Append the traffic datasets\n",
    "total_traffic=traffic_2018.append([traffic_2019,last_traffic])"
   ]
  },
  {
   "cell_type": "code",
   "execution_count": 9,
   "metadata": {},
   "outputs": [],
   "source": [
    "# Importing the postal codes\n",
    "postal_codes=pd.read_csv('https://media.githubusercontent.com/media/tmcdonald92/Projects/master/localisations.csv', sep=',')"
   ]
  },
  {
   "cell_type": "code",
   "execution_count": 10,
   "metadata": {},
   "outputs": [],
   "source": [
    "postal_codes=postal_codes.drop_duplicates()"
   ]
  },
  {
   "cell_type": "code",
   "execution_count": 11,
   "metadata": {},
   "outputs": [],
   "source": [
    "# Merging the postal codes in the traffic dataset\n",
    "total_traffic=total_traffic.merge(postal_codes, how='left', on='Identifiant du compteur')"
   ]
  },
  {
   "cell_type": "code",
   "execution_count": 12,
   "metadata": {},
   "outputs": [],
   "source": [
    "# Adding the year, month, day and hour columns\n",
    "total_traffic['Year']=total_traffic['Date et heure de comptage'].str[:4]\n",
    "total_traffic['Month']=total_traffic['Date et heure de comptage'].str[5:7]\n",
    "total_traffic['Day']=total_traffic['Date et heure de comptage'].str[8:10]\n",
    "total_traffic['Hour']=total_traffic['Date et heure de comptage'].str[11:13]"
   ]
  },
  {
   "cell_type": "code",
   "execution_count": 13,
   "metadata": {},
   "outputs": [],
   "source": [
    "# Adding day of week column. It is necessary a column with the date in datetime format first\n",
    "total_traffic['Date']=total_traffic['Date et heure de comptage'].str[:10]\n",
    "total_traffic.Date=pd.to_datetime(total_traffic.Date)\n",
    "total_traffic['day_week']=total_traffic.Date.dt.dayofweek # Etienne : I removed the -1 to match my list indices for week_days"
   ]
  },
  {
   "cell_type": "code",
   "execution_count": 14,
   "metadata": {},
   "outputs": [],
   "source": [
    "# Drop unnecessary columns from traffic dataset\n",
    "columns_to_drop=['Nom du compteur_x',\n",
    "                 'Identifiant du site de comptage',\n",
    "                 'Nom du site de comptage',\n",
    "                'Lien vers photo du site de comptage',\n",
    "                'Coordonnées géographiques_x',\n",
    "                'Nom du compteur_y',\n",
    "                'Coordonnées géographiques_y',\n",
    "                'Date et heure de comptage']\n",
    "\n",
    "total_traffic.drop(columns=columns_to_drop, inplace=True)"
   ]
  },
  {
   "cell_type": "code",
   "execution_count": 15,
   "metadata": {},
   "outputs": [],
   "source": [
    "# Adding week days & months names\n",
    "wk_days = ['Monday','Tuesday','Wednesday','Thursday','Friday','Saturday','Sunday']\n",
    "months=['first','January','February','March','April','May','June','July','August','September','October','November','December']\n",
    "\n",
    "total_traffic['day_week']=total_traffic['day_week'].apply(lambda x: wk_days[x])\n",
    "total_traffic['Month']=total_traffic['Month'].apply(lambda x: int(x))\n",
    "total_traffic['month_name']=total_traffic['Month'].apply(lambda x: months[x])"
   ]
  },
  {
   "cell_type": "code",
   "execution_count": 16,
   "metadata": {},
   "outputs": [],
   "source": [
    "# Get arrondissements from postal code and remove all postal codes not starting with 75\n",
    "\n",
    "total_traffic['Postal code']=total_traffic['Postal code'].apply(lambda x: str(x))\n",
    "\n",
    "total_traffic=total_traffic.loc[total_traffic['Postal code'].str[:2]=='75']\n",
    "\n",
    "total_traffic['Arrondissement']=total_traffic['Postal code'].str[-2:]\n",
    "\n",
    "total_traffic['Arrondissement']=total_traffic['Arrondissement'].apply(lambda x: int(x))"
   ]
  },
  {
   "cell_type": "code",
   "execution_count": 17,
   "metadata": {},
   "outputs": [
    {
     "data": {
      "text/html": [
       "<div>\n",
       "<style scoped>\n",
       "    .dataframe tbody tr th:only-of-type {\n",
       "        vertical-align: middle;\n",
       "    }\n",
       "\n",
       "    .dataframe tbody tr th {\n",
       "        vertical-align: top;\n",
       "    }\n",
       "\n",
       "    .dataframe thead th {\n",
       "        text-align: right;\n",
       "    }\n",
       "</style>\n",
       "<table border=\"1\" class=\"dataframe\">\n",
       "  <thead>\n",
       "    <tr style=\"text-align: right;\">\n",
       "      <th></th>\n",
       "      <th>Identifiant du compteur</th>\n",
       "      <th>Comptage horaire</th>\n",
       "      <th>Date d'installation du site de comptage</th>\n",
       "      <th>Postal code</th>\n",
       "      <th>Year</th>\n",
       "      <th>Month</th>\n",
       "      <th>Day</th>\n",
       "      <th>Hour</th>\n",
       "      <th>Date</th>\n",
       "      <th>day_week</th>\n",
       "      <th>month_name</th>\n",
       "      <th>Arrondissement</th>\n",
       "    </tr>\n",
       "  </thead>\n",
       "  <tbody>\n",
       "    <tr>\n",
       "      <th>0</th>\n",
       "      <td>100047547-104047547</td>\n",
       "      <td>4</td>\n",
       "      <td>2018-11-28</td>\n",
       "      <td>75014</td>\n",
       "      <td>2018</td>\n",
       "      <td>11</td>\n",
       "      <td>29</td>\n",
       "      <td>01</td>\n",
       "      <td>2018-11-29</td>\n",
       "      <td>Thursday</td>\n",
       "      <td>November</td>\n",
       "      <td>14</td>\n",
       "    </tr>\n",
       "    <tr>\n",
       "      <th>1</th>\n",
       "      <td>100047547-104047547</td>\n",
       "      <td>30</td>\n",
       "      <td>2018-11-28</td>\n",
       "      <td>75014</td>\n",
       "      <td>2018</td>\n",
       "      <td>11</td>\n",
       "      <td>29</td>\n",
       "      <td>22</td>\n",
       "      <td>2018-11-29</td>\n",
       "      <td>Thursday</td>\n",
       "      <td>November</td>\n",
       "      <td>14</td>\n",
       "    </tr>\n",
       "    <tr>\n",
       "      <th>2</th>\n",
       "      <td>100047547-104047547</td>\n",
       "      <td>116</td>\n",
       "      <td>2018-11-28</td>\n",
       "      <td>75014</td>\n",
       "      <td>2018</td>\n",
       "      <td>11</td>\n",
       "      <td>30</td>\n",
       "      <td>17</td>\n",
       "      <td>2018-11-30</td>\n",
       "      <td>Friday</td>\n",
       "      <td>November</td>\n",
       "      <td>14</td>\n",
       "    </tr>\n",
       "    <tr>\n",
       "      <th>3</th>\n",
       "      <td>100047547-104047547</td>\n",
       "      <td>0</td>\n",
       "      <td>2018-11-28</td>\n",
       "      <td>75014</td>\n",
       "      <td>2018</td>\n",
       "      <td>12</td>\n",
       "      <td>03</td>\n",
       "      <td>01</td>\n",
       "      <td>2018-12-03</td>\n",
       "      <td>Monday</td>\n",
       "      <td>December</td>\n",
       "      <td>14</td>\n",
       "    </tr>\n",
       "    <tr>\n",
       "      <th>4</th>\n",
       "      <td>100047547-104047547</td>\n",
       "      <td>18</td>\n",
       "      <td>2018-11-28</td>\n",
       "      <td>75014</td>\n",
       "      <td>2018</td>\n",
       "      <td>12</td>\n",
       "      <td>03</td>\n",
       "      <td>11</td>\n",
       "      <td>2018-12-03</td>\n",
       "      <td>Monday</td>\n",
       "      <td>December</td>\n",
       "      <td>14</td>\n",
       "    </tr>\n",
       "  </tbody>\n",
       "</table>\n",
       "</div>"
      ],
      "text/plain": [
       "  Identifiant du compteur  Comptage horaire  \\\n",
       "0     100047547-104047547                 4   \n",
       "1     100047547-104047547                30   \n",
       "2     100047547-104047547               116   \n",
       "3     100047547-104047547                 0   \n",
       "4     100047547-104047547                18   \n",
       "\n",
       "  Date d'installation du site de comptage Postal code  Year  Month Day Hour  \\\n",
       "0                              2018-11-28       75014  2018     11  29   01   \n",
       "1                              2018-11-28       75014  2018     11  29   22   \n",
       "2                              2018-11-28       75014  2018     11  30   17   \n",
       "3                              2018-11-28       75014  2018     12  03   01   \n",
       "4                              2018-11-28       75014  2018     12  03   11   \n",
       "\n",
       "        Date  day_week month_name  Arrondissement  \n",
       "0 2018-11-29  Thursday   November              14  \n",
       "1 2018-11-29  Thursday   November              14  \n",
       "2 2018-11-30    Friday   November              14  \n",
       "3 2018-12-03    Monday   December              14  \n",
       "4 2018-12-03    Monday   December              14  "
      ]
     },
     "execution_count": 17,
     "metadata": {},
     "output_type": "execute_result"
    }
   ],
   "source": [
    "total_traffic.head()"
   ]
  },
  {
   "cell_type": "markdown",
   "metadata": {},
   "source": [
    "### Missing Values"
   ]
  },
  {
   "cell_type": "code",
   "execution_count": 18,
   "metadata": {},
   "outputs": [
    {
     "data": {
      "text/plain": [
       "Identifiant du compteur                    0\n",
       "Comptage horaire                           0\n",
       "Date d'installation du site de comptage    0\n",
       "Postal code                                0\n",
       "Year                                       0\n",
       "Month                                      0\n",
       "Day                                        0\n",
       "Hour                                       0\n",
       "Date                                       0\n",
       "day_week                                   0\n",
       "month_name                                 0\n",
       "Arrondissement                             0\n",
       "dtype: int64"
      ]
     },
     "execution_count": 18,
     "metadata": {},
     "output_type": "execute_result"
    }
   ],
   "source": [
    "total_traffic.isna().sum()"
   ]
  },
  {
   "cell_type": "markdown",
   "metadata": {},
   "source": [
    "There are no missing values in the traffic dataset ;)"
   ]
  },
  {
   "cell_type": "markdown",
   "metadata": {},
   "source": [
    "## Bike lanes"
   ]
  },
  {
   "cell_type": "code",
   "execution_count": 19,
   "metadata": {},
   "outputs": [
    {
     "name": "stdout",
     "output_type": "stream",
     "text": [
      "<class 'pandas.core.frame.DataFrame'>\n",
      "RangeIndex: 11954 entries, 0 to 11953\n",
      "Data columns (total 18 columns):\n",
      " #   Column                          Non-Null Count  Dtype  \n",
      "---  ------                          --------------  -----  \n",
      " 0   Typologie                       11953 non-null  object \n",
      " 1   Aménagement bidirectionnel      11488 non-null  object \n",
      " 2   Régime de vitesse               11937 non-null  object \n",
      " 3   Sens vélo                       10924 non-null  object \n",
      " 4   Voie                            11898 non-null  object \n",
      " 5   Arrondissement                  11951 non-null  float64\n",
      " 6   Bois                            10409 non-null  object \n",
      " 7   Longueur du tronçon en m        11954 non-null  float64\n",
      " 8   Longueur du tronçon en km       11954 non-null  float64\n",
      " 9   Position aménagement            1097 non-null   object \n",
      " 10  Circulation générale interdite  1110 non-null   object \n",
      " 11  Piste                           3189 non-null   object \n",
      " 12  Couloir bus                     1849 non-null   object \n",
      " 13  Continuité cyclable             2809 non-null   object \n",
      " 14  Réseau cyclable                 814 non-null    object \n",
      " 15  Date de livraison               7943 non-null   object \n",
      " 16  geo_shape                       11953 non-null  object \n",
      " 17  geo_point_2d                    11953 non-null  object \n",
      "dtypes: float64(3), object(15)\n",
      "memory usage: 1.6+ MB\n"
     ]
    }
   ],
   "source": [
    "bike_lanes.info()"
   ]
  },
  {
   "cell_type": "code",
   "execution_count": 20,
   "metadata": {},
   "outputs": [],
   "source": [
    "# Drop unnecessary columns from bike_lanes dataset\n",
    "\n",
    "cols_to_drop = ['Aménagement bidirectionnel',\n",
    "                'Régime de vitesse',\n",
    "                'Sens vélo',\n",
    "                'Bois',\n",
    "                'Longueur du tronçon en km',\n",
    "                'Position aménagement',\n",
    "                'Circulation générale interdite',\n",
    "                'Piste',\n",
    "                'Couloir bus',\n",
    "                'Continuité cyclable',\n",
    "                'Réseau cyclable',\n",
    "                'geo_shape'] \n",
    "\n",
    "bike_lanes.drop(columns=cols_to_drop, inplace=True)\n"
   ]
  },
  {
   "cell_type": "code",
   "execution_count": 21,
   "metadata": {},
   "outputs": [],
   "source": [
    "# Get rid of data with no delivery date \n",
    "\n",
    "bike_lanes.dropna(subset=['Date de livraison','Arrondissement'], inplace=True)"
   ]
  },
  {
   "cell_type": "code",
   "execution_count": 22,
   "metadata": {},
   "outputs": [],
   "source": [
    "# Split delivery dates into 3 columns\n",
    "\n",
    "bike_lanes[['Year','Month','Day']]=bike_lanes['Date de livraison'].str.split('-',expand=True)"
   ]
  },
  {
   "cell_type": "code",
   "execution_count": 23,
   "metadata": {},
   "outputs": [],
   "source": [
    "# Correct data types \n",
    "\n",
    "bike_lanes['Month']=bike_lanes['Month'].apply(lambda x: int(x))\n",
    "bike_lanes['Year']=bike_lanes['Year'].apply(lambda x: int(x))\n",
    "bike_lanes['Arrondissement']=bike_lanes['Arrondissement'].apply(lambda x: int(x))\n"
   ]
  },
  {
   "cell_type": "code",
   "execution_count": 24,
   "metadata": {},
   "outputs": [],
   "source": [
    "# Replace month names \n",
    "\n",
    "bike_lanes['month_name']=bike_lanes['Month'].apply(lambda x: months[x])"
   ]
  },
  {
   "cell_type": "code",
   "execution_count": 25,
   "metadata": {},
   "outputs": [],
   "source": [
    "# Find out how many bike lanes have been delivered starting from 2017 \n",
    "# Idea : we have to check for dates prior to 2018 in order to \n",
    "# check whether it is a bike lane increase that drove traffic or the opposite\n",
    "\n",
    "bike_lanes=bike_lanes.loc[bike_lanes['Year']>=2017]"
   ]
  },
  {
   "cell_type": "markdown",
   "metadata": {},
   "source": [
    "### Missing values "
   ]
  },
  {
   "cell_type": "code",
   "execution_count": 26,
   "metadata": {},
   "outputs": [
    {
     "data": {
      "text/plain": [
       "Typologie                    0\n",
       "Voie                        29\n",
       "Arrondissement               0\n",
       "Longueur du tronçon en m     0\n",
       "Date de livraison            0\n",
       "geo_point_2d                 0\n",
       "Year                         0\n",
       "Month                        0\n",
       "Day                          0\n",
       "month_name                   0\n",
       "dtype: int64"
      ]
     },
     "execution_count": 26,
     "metadata": {},
     "output_type": "execute_result"
    }
   ],
   "source": [
    "bike_lanes.isna().sum()"
   ]
  },
  {
   "cell_type": "markdown",
   "metadata": {},
   "source": [
    "29 streets missing, but not an issue because we have their arrondissement "
   ]
  },
  {
   "cell_type": "markdown",
   "metadata": {},
   "source": [
    "## Columns that we don't need from accidents\n",
    "* Circulation (143 non-missing values)\n"
   ]
  },
  {
   "cell_type": "markdown",
   "metadata": {
    "heading_collapsed": true
   },
   "source": [
    "# Get postal code of every 'compteur'"
   ]
  },
  {
   "cell_type": "code",
   "execution_count": 27,
   "metadata": {
    "hidden": true
   },
   "outputs": [],
   "source": [
    "#qqq=traffic.pivot_table(index='Identifiant du compteur', values='Coordonnées géographiques', aggfunc='head')"
   ]
  },
  {
   "cell_type": "code",
   "execution_count": 28,
   "metadata": {
    "hidden": true
   },
   "outputs": [],
   "source": [
    "#qqq=qqq['Coordonnées géographiques'].str.split(',',expand=True)\n",
    "#qqq=qqq.applymap(float)"
   ]
  },
  {
   "cell_type": "code",
   "execution_count": 29,
   "metadata": {
    "hidden": true
   },
   "outputs": [],
   "source": [
    "#import googlemaps\n",
    "#from datetime import datetime\n",
    "\n",
    "#gmaps = googlemaps.Client(key='Key')"
   ]
  },
  {
   "cell_type": "code",
   "execution_count": 30,
   "metadata": {
    "hidden": true
   },
   "outputs": [],
   "source": [
    "#postal_codes=qqq.apply(lambda x: gmaps.reverse_geocode((x[0],x[1]))[0]['address_components'][-1]['long_name'], axis=1)"
   ]
  },
  {
   "cell_type": "code",
   "execution_count": 31,
   "metadata": {
    "hidden": true
   },
   "outputs": [],
   "source": [
    "#postal_codes=pd.DataFrame(postal_codes, columns=['Postal code'])"
   ]
  },
  {
   "cell_type": "code",
   "execution_count": 32,
   "metadata": {
    "hidden": true
   },
   "outputs": [],
   "source": [
    "#localisations=traffic.merge(postal_codes,left_index=True, right_index=True)\n",
    "#localisations=localisations[['Identifiant du compteur','Nom du compteur','Coordonnées géographiques','Postal code']]"
   ]
  },
  {
   "cell_type": "code",
   "execution_count": 33,
   "metadata": {
    "hidden": true
   },
   "outputs": [],
   "source": [
    "#localisations.to_csv('localisations.csv',sep=',',index=False)"
   ]
  },
  {
   "cell_type": "code",
   "execution_count": null,
   "metadata": {
    "hidden": true
   },
   "outputs": [],
   "source": []
  }
 ],
 "metadata": {
  "kernelspec": {
   "display_name": "Python 3",
   "language": "python",
   "name": "python3"
  },
  "language_info": {
   "codemirror_mode": {
    "name": "ipython",
    "version": 3
   },
   "file_extension": ".py",
   "mimetype": "text/x-python",
   "name": "python",
   "nbconvert_exporter": "python",
   "pygments_lexer": "ipython3",
   "version": "3.8.5"
  },
  "toc": {
   "base_numbering": 1,
   "nav_menu": {},
   "number_sections": true,
   "sideBar": true,
   "skip_h1_title": false,
   "title_cell": "Table of Contents",
   "title_sidebar": "Contents",
   "toc_cell": true,
   "toc_position": {},
   "toc_section_display": true,
   "toc_window_display": false
  }
 },
 "nbformat": 4,
 "nbformat_minor": 4
}
