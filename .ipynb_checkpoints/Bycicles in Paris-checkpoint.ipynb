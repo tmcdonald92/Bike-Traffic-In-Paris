{
 "cells": [
  {
   "cell_type": "markdown",
   "metadata": {},
   "source": [
    "# Objectives\n",
    "The number of cyclists in Paris\n",
    "* Quantify the rise of cyclists in Paris\n",
    "    * Get data from traffic, accidents\n",
    "    * Bike lane construction\n",
    "* Correlate the accidents with time of day, condition of the road, gender\n",
    "* Is the increase in car traffic leading to more bike accidents?\n",
    "* Is the increase bikes lanes helping in the drecrease of bike accidents?\n",
    "* Is the increase of bike traffic leading to more bike lanes? And in which areas?"
   ]
  },
  {
   "cell_type": "markdown",
   "metadata": {},
   "source": [
    "# Data that we might need (to scrape)\n",
    "* Public investment (bike lane construction, public incentives to buy bikes)\n",
    "* Car Traffic in Paris\n",
    "* Number of bycicles sold in Paris (we might have info about sales of eletric bikes in Paris)\n",
    "* Average Salary in Paris\n",
    "* Average bike prices"
   ]
  },
  {
   "cell_type": "code",
   "execution_count": 1,
   "metadata": {},
   "outputs": [],
   "source": [
    "import pandas as pd"
   ]
  },
  {
   "cell_type": "code",
   "execution_count": 9,
   "metadata": {},
   "outputs": [],
   "source": [
    "accidents = pd.read_csv(r'C:\\Users\\Tiago McDonald\\Downloads\\accidents-velos.csv', low_memory=False)"
   ]
  },
  {
   "cell_type": "code",
   "execution_count": 10,
   "metadata": {},
   "outputs": [
    {
     "name": "stdout",
     "output_type": "stream",
     "text": [
      "<class 'pandas.core.frame.DataFrame'>\n",
      "RangeIndex: 65981 entries, 0 to 65980\n",
      "Data columns (total 39 columns):\n",
      " #   Column                      Non-Null Count  Dtype  \n",
      "---  ------                      --------------  -----  \n",
      " 0   identifiant accident        65981 non-null  int64  \n",
      " 1   date                        65981 non-null  object \n",
      " 2   mois                        65981 non-null  object \n",
      " 3   jour                        65981 non-null  object \n",
      " 4   heure                       65515 non-null  float64\n",
      " 5   departement                 65981 non-null  object \n",
      " 6   commune                     65981 non-null  object \n",
      " 7   lat                         65981 non-null  float64\n",
      " 8   lon                         65713 non-null  float64\n",
      " 9   en agglomeration            65981 non-null  object \n",
      " 10  type intersection           65979 non-null  object \n",
      " 11  type collision              65977 non-null  object \n",
      " 12  luminosite                  65981 non-null  object \n",
      " 13  conditions atmosperiques    65978 non-null  object \n",
      " 14  type route                  65970 non-null  object \n",
      " 15  circulation                 143 non-null    object \n",
      " 16  nb voies                    57837 non-null  float64\n",
      " 17  profil long route           61406 non-null  object \n",
      " 18  trace plan route            59883 non-null  object \n",
      " 19  largeur TPC                 5172 non-null   float64\n",
      " 20  largeur route               40283 non-null  float64\n",
      " 21  etat surface                63443 non-null  object \n",
      " 22  amenagement                 7275 non-null   object \n",
      " 23  situation                   61813 non-null  object \n",
      " 24  categorie usager            65981 non-null  object \n",
      " 25  gravite accident            65981 non-null  object \n",
      " 26  sexe                        65981 non-null  object \n",
      " 27  age                         65955 non-null  object \n",
      " 28  motif deplacement           52267 non-null  object \n",
      " 29  existence securite          60597 non-null  object \n",
      " 30  usage securite              58723 non-null  object \n",
      " 31  obstacle fixe heurte        1450 non-null   object \n",
      " 32  obstacle mobile heurte      52947 non-null  object \n",
      " 33  localisation choc           56860 non-null  object \n",
      " 34  manoeuvre avant accident    59269 non-null  object \n",
      " 35  identifiant vehicule        65981 non-null  object \n",
      " 36  type autres vehicules       57208 non-null  object \n",
      " 37  manoeuvre autres vehicules  52980 non-null  object \n",
      " 38  nombre autres vehicules     57208 non-null  float64\n",
      "dtypes: float64(7), int64(1), object(31)\n",
      "memory usage: 19.6+ MB\n"
     ]
    }
   ],
   "source": [
    "accidents.info()"
   ]
  },
  {
   "cell_type": "markdown",
   "metadata": {},
   "source": [
    "## Columns that we don't need\n",
    "* Circulation (143 non-missing values)\n"
   ]
  },
  {
   "cell_type": "markdown",
   "metadata": {},
   "source": [
    "# THIS A TEST DO NOT PANIC"
   ]
  },
  {
   "cell_type": "code",
   "execution_count": null,
   "metadata": {},
   "outputs": [],
   "source": []
  }
 ],
 "metadata": {
  "kernelspec": {
   "display_name": "Python 3",
   "language": "python",
   "name": "python3"
  },
  "language_info": {
   "codemirror_mode": {
    "name": "ipython",
    "version": 3
   },
   "file_extension": ".py",
   "mimetype": "text/x-python",
   "name": "python",
   "nbconvert_exporter": "python",
   "pygments_lexer": "ipython3",
   "version": "3.8.5"
  }
 },
 "nbformat": 4,
 "nbformat_minor": 4
}
